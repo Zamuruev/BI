{
  "cells": [
    {
      "cell_type": "markdown",
      "metadata": {
        "id": "view-in-github",
        "colab_type": "text"
      },
      "source": [
        "<a href=\"https://colab.research.google.com/github/Zamuruev/BI/blob/master/%D0%94%D0%BE%D0%B1%D1%80%D0%BE_%D0%BF%D0%BE%D0%B6%D0%B0%D0%BB%D0%BE%D0%B2%D0%B0%D1%82%D1%8C_%D0%B2_Colaboratory!.ipynb\" target=\"_parent\"><img src=\"https://colab.research.google.com/assets/colab-badge.svg\" alt=\"Open In Colab\"/></a>"
      ]
    },
    {
      "cell_type": "markdown",
      "source": [
        "Код для генерации черно-белого изображания с кругами и квадратами."
      ],
      "metadata": {
        "id": "kuPLOoKbXL6M"
      }
    },
    {
      "cell_type": "code",
      "source": [
        "from PIL import Image, ImageDraw\n",
        "import random\n",
        "import matplotlib.pyplot as plt  # Для отображения изображения\n",
        "\n",
        "# Параметры изображения\n",
        "IMAGE_SIZE = (500, 500)  # Размер изображения\n",
        "CIRCLE_RADIUS = 30       # Радиус кругов\n",
        "SQUARE_SIZE = 60         # Размер стороны квадрата\n",
        "NUM_SHAPES = 10          # Общее количество фигур (кругов и квадратов)\n",
        "\n",
        "# Создаем новое изображение\n",
        "image = Image.new(\"1\", IMAGE_SIZE, color=1)  # \"1\" означает черно-белый режим\n",
        "draw = ImageDraw.Draw(image)\n",
        "\n",
        "# Функция для проверки пересечения двух прямоугольников\n",
        "def is_overlapping(rect1, rect2):\n",
        "    \"\"\"\n",
        "    Проверяет, пересекаются ли два прямоугольника.\n",
        "    rect1 и rect2 — кортежи с координатами (left, top, right, bottom).\n",
        "    \"\"\"\n",
        "    return not (rect1[2] <= rect2[0] or  # rect1 справа от rect2\n",
        "                rect1[0] >= rect2[2] or  # rect1 слева от rect2\n",
        "                rect1[3] <= rect2[1] or  # rect1 ниже rect2\n",
        "                rect1[1] >= rect2[3])    # rect1 выше rect2\n",
        "\n",
        "# Функция для проверки, что новая фигура не пересекается с существующими\n",
        "def is_valid_position(new_shape, existing_shapes):\n",
        "    for shape in existing_shapes:\n",
        "        if is_overlapping(new_shape, shape):\n",
        "            return False\n",
        "    return True\n",
        "\n",
        "# Список для хранения границ фигур\n",
        "existing_shapes = []\n",
        "\n",
        "# Генерация фигур\n",
        "for _ in range(NUM_SHAPES):\n",
        "    is_circle = random.choice([True, False])  # Случайный выбор: круг или квадрат\n",
        "    attempts = 0\n",
        "    max_attempts = 1000  # Ограничение попыток размещения фигуры\n",
        "\n",
        "    while attempts < max_attempts:\n",
        "        # Случайные координаты центра фигуры\n",
        "        x = random.randint(0, IMAGE_SIZE[0])\n",
        "        y = random.randint(0, IMAGE_SIZE[1])\n",
        "\n",
        "        if is_circle:\n",
        "            # Определяем границы круга\n",
        "            left = x - CIRCLE_RADIUS\n",
        "            top = y - CIRCLE_RADIUS\n",
        "            right = x + CIRCLE_RADIUS\n",
        "            bottom = y + CIRCLE_RADIUS\n",
        "            circle_bounds = (left, top, right, bottom)\n",
        "\n",
        "            # Проверяем, что круг помещается в изображении и не пересекается\n",
        "            if left >= 0 and top >= 0 and right < IMAGE_SIZE[0] and bottom < IMAGE_SIZE[1]:\n",
        "                if is_valid_position(circle_bounds, existing_shapes):\n",
        "                    draw.ellipse(circle_bounds, fill=0)  # Рисуем круг\n",
        "                    existing_shapes.append(circle_bounds)\n",
        "                    break\n",
        "        else:\n",
        "            # Определяем границы квадрата\n",
        "            left = x - SQUARE_SIZE // 2\n",
        "            top = y - SQUARE_SIZE // 2\n",
        "            right = x + SQUARE_SIZE // 2\n",
        "            bottom = y + SQUARE_SIZE // 2\n",
        "            square_bounds = (left, top, right, bottom)\n",
        "\n",
        "            # Проверяем, что квадрат помещается в изображении и не пересекается\n",
        "            if left >= 0 and top >= 0 and right < IMAGE_SIZE[0] and bottom < IMAGE_SIZE[1]:\n",
        "                if is_valid_position(square_bounds, existing_shapes):\n",
        "                    draw.rectangle(square_bounds, fill=0)  # Рисуем квадрат\n",
        "                    existing_shapes.append(square_bounds)\n",
        "                    break\n",
        "\n",
        "        attempts += 1\n",
        "\n",
        "# Сохраняем изображение\n",
        "image.save(\"shapes_image.png\")\n",
        "print(\"Изображение сохранено как 'shapes_image.png'\")\n",
        "\n",
        "# Отображаем изображение с помощью matplotlib\n",
        "plt.imshow(image, cmap='gray')  # Используем серую цветовую карту для черно-белого изображения\n",
        "plt.axis('off')  # Отключаем оси\n",
        "plt.show()"
      ],
      "metadata": {
        "collapsed": true,
        "id": "bW2MfxqATux4",
        "outputId": "28d3f323-8c8b-443a-babc-1195e87d81b4",
        "colab": {
          "base_uri": "https://localhost:8080/",
          "height": 423
        }
      },
      "execution_count": 8,
      "outputs": [
        {
          "output_type": "stream",
          "name": "stdout",
          "text": [
            "Изображение сохранено как 'shapes_image.png'\n"
          ]
        },
        {
          "output_type": "display_data",
          "data": {
            "text/plain": [
              "<Figure size 640x480 with 1 Axes>"
            ],
            "image/png": "[encoded data removed]"
          },
          "metadata": {}
        }
      ]
    },
    {
      "cell_type": "markdown",
      "source": [
        "1. На черно-белом изображении поставлены непересекающиеся, несопрекасающиеся и целые круги и квадраты заданного размера. Посчитайте число целых кругов и квадратов, не используя библиотеку cv2 или подобную."
      ],
      "metadata": {
        "id": "ymsz3IDIU0hV"
      }
    },
    {
      "cell_type": "code",
      "source": [
        "from PIL import Image\n",
        "import numpy as np\n",
        "from collections import deque\n",
        "\n",
        "# Загрузка изображения\n",
        "image = Image.open(\"shapes_image.png\").convert(\"1\")  # Черно-белое изображение\n",
        "pixels = np.array(image)  # Преобразуем в массив NumPy\n",
        "\n",
        "# Параметры изображения\n",
        "rows, cols = pixels.shape\n",
        "\n",
        "# Направления для обхода соседей (4-связность)\n",
        "directions = [(-1, 0), (1, 0), (0, -1), (0, 1)]\n",
        "\n",
        "# Функция для поиска связной области\n",
        "def find_connected_component(start_row, start_col, visited):\n",
        "    queue = deque([(start_row, start_col)])\n",
        "    visited[start_row][start_col] = True\n",
        "    component = []\n",
        "\n",
        "    while queue:\n",
        "        row, col = queue.popleft()\n",
        "        component.append((row, col))\n",
        "\n",
        "        for dr, dc in directions:\n",
        "            new_row, new_col = row + dr, col + dc\n",
        "            if 0 <= new_row < rows and 0 <= new_col < cols:\n",
        "                if not visited[new_row][new_col] and pixels[new_row][new_col] == 0:\n",
        "                    visited[new_row][new_col] = True\n",
        "                    queue.append((new_row, new_col))\n",
        "\n",
        "    return component\n",
        "\n",
        "# Функция для классификации формы\n",
        "def classify_shape(component):\n",
        "    min_row = min(row for row, col in component)\n",
        "    max_row = max(row for row, col in component)\n",
        "    min_col = min(col for row, col in component)\n",
        "    max_col = max(col for row, col in component)\n",
        "\n",
        "    width = max_col - min_col + 1\n",
        "    height = max_row - min_row + 1\n",
        "\n",
        "    # Площадь ограничивающего прямоугольника\n",
        "    bounding_box_area = width * height\n",
        "\n",
        "    # Количество черных пикселей внутри связной области\n",
        "    filled_area = len(component)\n",
        "\n",
        "    # Отношение заполненной площади к площади ограничивающего прямоугольника\n",
        "    fill_ratio = filled_area / bounding_box_area\n",
        "\n",
        "    # Классификация по коэффициенту заполнения\n",
        "    if abs(width - height) <= 2:  # Допустимая погрешность для ширины и высоты\n",
        "        if fill_ratio > 0.9:  # Близко к 1 — это квадрат\n",
        "            return \"square\"\n",
        "        elif fill_ratio > 0.6:  # Примерно 0.785 — это круг\n",
        "            return \"circle\"\n",
        "    return None\n",
        "\n",
        "# Поиск всех фигур\n",
        "visited = np.zeros_like(pixels, dtype=bool)\n",
        "circle_count = 0\n",
        "square_count = 0\n",
        "\n",
        "for row in range(rows):\n",
        "    for col in range(cols):\n",
        "        if pixels[row][col] == 0 and not visited[row][col]:  # Нашли черный пиксель\n",
        "            component = find_connected_component(row, col, visited)\n",
        "            shape_type = classify_shape(component)\n",
        "            if shape_type == \"circle\":\n",
        "                circle_count += 1\n",
        "            elif shape_type == \"square\":\n",
        "                square_count += 1\n",
        "\n",
        "# Вывод результатов\n",
        "print(f\"Количество кругов: {circle_count}\")\n",
        "print(f\"Количество квадратов: {square_count}\")"
      ],
      "metadata": {
        "id": "qdaltuV3U_ds",
        "outputId": "f143d248-2e75-407b-a278-f6e983d2dcaf",
        "colab": {
          "base_uri": "https://localhost:8080/"
        }
      },
      "execution_count": 9,
      "outputs": [
        {
          "output_type": "stream",
          "name": "stdout",
          "text": [
            "Количество кругов: 6\n",
            "Количество квадратов: 4\n"
          ]
        }
      ]
    },
    {
      "cell_type": "markdown",
      "source": [
        "Код для генерации цветного изображания с кругами и квадратами."
      ],
      "metadata": {
        "id": "p0XktoQyXVHK"
      }
    },
    {
      "cell_type": "code",
      "source": [
        "from PIL import Image, ImageDraw\n",
        "import random\n",
        "import matplotlib.pyplot as plt\n",
        "\n",
        "# Параметры изображения\n",
        "IMAGE_SIZE = (500, 500)  # Размер изображения\n",
        "CIRCLE_RADIUS = 30       # Радиус кругов\n",
        "SQUARE_SIZE = 60         # Размер стороны квадрата\n",
        "NUM_SHAPES = 10          # Общее количество фигур (кругов и квадратов)\n",
        "\n",
        "# Цвета для фигур\n",
        "CIRCLE_COLOR = (255, 0, 0)  # Красный\n",
        "SQUARE_COLOR = (0, 0, 255)  # Синий\n",
        "BACKGROUND_COLOR = (255, 255, 255)  # Белый фон\n",
        "\n",
        "# Создаем новое изображение\n",
        "image = Image.new(\"RGB\", IMAGE_SIZE, color=BACKGROUND_COLOR)\n",
        "draw = ImageDraw.Draw(image)\n",
        "\n",
        "# Функция для проверки пересечения двух прямоугольников\n",
        "def is_overlapping(rect1, rect2):\n",
        "    return not (rect1[2] <= rect2[0] or  # rect1 справа от rect2\n",
        "                rect1[0] >= rect2[2] or  # rect1 слева от rect2\n",
        "                rect1[3] <= rect2[1] or  # rect1 ниже rect2\n",
        "                rect1[1] >= rect2[3])    # rect1 выше rect2\n",
        "\n",
        "# Функция для проверки, что новая фигура не пересекается с существующими\n",
        "def is_valid_position(new_shape, existing_shapes):\n",
        "    for shape in existing_shapes:\n",
        "        if is_overlapping(new_shape, shape):\n",
        "            return False\n",
        "    return True\n",
        "\n",
        "# Список для хранения границ фигур\n",
        "existing_shapes = []\n",
        "\n",
        "# Генерация фигур\n",
        "for _ in range(NUM_SHAPES):\n",
        "    is_circle = random.choice([True, False])  # Случайный выбор: круг или квадрат\n",
        "    attempts = 0\n",
        "    max_attempts = 1000  # Ограничение попыток размещения фигуры\n",
        "\n",
        "    while attempts < max_attempts:\n",
        "        # Случайные координаты центра фигуры\n",
        "        x = random.randint(0, IMAGE_SIZE[0])\n",
        "        y = random.randint(0, IMAGE_SIZE[1])\n",
        "\n",
        "        if is_circle:\n",
        "            # Определяем границы круга\n",
        "            left = x - CIRCLE_RADIUS\n",
        "            top = y - CIRCLE_RADIUS\n",
        "            right = x + CIRCLE_RADIUS\n",
        "            bottom = y + CIRCLE_RADIUS\n",
        "            circle_bounds = (left, top, right, bottom)\n",
        "\n",
        "            # Проверяем, что круг помещается в изображении и не пересекается\n",
        "            if left >= 0 and top >= 0 and right < IMAGE_SIZE[0] and bottom < IMAGE_SIZE[1]:\n",
        "                if is_valid_position(circle_bounds, existing_shapes):\n",
        "                    draw.ellipse(circle_bounds, fill=CIRCLE_COLOR)  # Рисуем круг\n",
        "                    existing_shapes.append(circle_bounds)\n",
        "                    break\n",
        "        else:\n",
        "            # Определяем границы квадрата\n",
        "            left = x - SQUARE_SIZE // 2\n",
        "            top = y - SQUARE_SIZE // 2\n",
        "            right = x + SQUARE_SIZE // 2\n",
        "            bottom = y + SQUARE_SIZE // 2\n",
        "            square_bounds = (left, top, right, bottom)\n",
        "\n",
        "            # Проверяем, что квадрат помещается в изображении и не пересекается\n",
        "            if left >= 0 and top >= 0 and right < IMAGE_SIZE[0] and bottom < IMAGE_SIZE[1]:\n",
        "                if is_valid_position(square_bounds, existing_shapes):\n",
        "                    draw.rectangle(square_bounds, fill=SQUARE_COLOR)  # Рисуем квадрат\n",
        "                    existing_shapes.append(square_bounds)\n",
        "                    break\n",
        "\n",
        "        attempts += 1\n",
        "\n",
        "# Сохраняем изображение\n",
        "image.save(\"color_shapes_image.png\")\n",
        "print(\"Изображение сохранено как 'color_shapes_image.png'\")\n",
        "\n",
        "# Отображаем изображение с помощью matplotlib\n",
        "plt.imshow(image)\n",
        "plt.axis('off')  # Отключаем оси\n",
        "plt.show()"
      ],
      "metadata": {
        "id": "XGWSUOtsXXW-",
        "outputId": "a04cb5eb-44b2-465c-d819-e654bf24aaa1",
        "colab": {
          "base_uri": "https://localhost:8080/",
          "height": 423
        }
      },
      "execution_count": 11,
      "outputs": [
        {
          "output_type": "stream",
          "name": "stdout",
          "text": [
            "Изображение сохранено как 'color_shapes_image.png'\n"
          ]
        },
        {
          "output_type": "display_data",
          "data": {
            "text/plain": [
              "<Figure size 640x480 with 1 Axes>"
            ],
            "image/png": "[encoded data removed]"
          },
          "metadata": {}
        }
      ]
    },
    {
      "cell_type": "markdown",
      "source": [
        "2. Выполните п.1 для цветного изображения, считая, что круги и квадраты имеют заданный цвет."
      ],
      "metadata": {
        "id": "f_OE6Y3ZWgRJ"
      }
    },
    {
      "cell_type": "code",
      "source": [
        "from PIL import Image\n",
        "import numpy as np\n",
        "from collections import deque\n",
        "\n",
        "# Загрузка изображения\n",
        "image = Image.open(\"color_shapes_image.png\").convert(\"RGB\")  # Цветное изображение\n",
        "pixels = np.array(image)  # Преобразуем в массив NumPy\n",
        "\n",
        "# Параметры изображения\n",
        "rows, cols, _ = pixels.shape\n",
        "\n",
        "# Цвета для кругов и квадратов (в формате RGB)\n",
        "CIRCLE_COLOR = (255, 0, 0)  # Красный\n",
        "SQUARE_COLOR = (0, 0, 255)  # Синий\n",
        "\n",
        "# Направления для обхода соседей (4-связность)\n",
        "directions = [(-1, 0), (1, 0), (0, -1), (0, 1)]\n",
        "\n",
        "# Функция для поиска связной области заданного цвета\n",
        "def find_connected_component(start_row, start_col, visited, target_color):\n",
        "    queue = deque([(start_row, start_col)])\n",
        "    visited[start_row][start_col] = True\n",
        "    component = []\n",
        "\n",
        "    while queue:\n",
        "        row, col = queue.popleft()\n",
        "        component.append((row, col))\n",
        "\n",
        "        for dr, dc in directions:\n",
        "            new_row, new_col = row + dr, col + dc\n",
        "            if 0 <= new_row < rows and 0 <= new_col < cols:\n",
        "                if not visited[new_row][new_col] and tuple(pixels[new_row][new_col]) == target_color:\n",
        "                    visited[new_row][new_col] = True\n",
        "                    queue.append((new_row, new_col))\n",
        "\n",
        "    return component\n",
        "\n",
        "# Функция для классификации формы\n",
        "def classify_shape(component):\n",
        "    min_row = min(row for row, col in component)\n",
        "    max_row = max(row for row, col in component)\n",
        "    min_col = min(col for row, col in component)\n",
        "    max_col = max(col for row, col in component)\n",
        "\n",
        "    width = max_col - min_col + 1\n",
        "    height = max_row - min_row + 1\n",
        "\n",
        "    # Площадь ограничивающего прямоугольника\n",
        "    bounding_box_area = width * height\n",
        "\n",
        "    # Количество пикселей внутри связной области\n",
        "    filled_area = len(component)\n",
        "\n",
        "    # Отношение заполненной площади к площади ограничивающего прямоугольника\n",
        "    fill_ratio = filled_area / bounding_box_area\n",
        "\n",
        "    # Классификация по коэффициенту заполнения\n",
        "    if abs(width - height) <= 2:  # Допустимая погрешность для ширины и высоты\n",
        "        if fill_ratio > 0.9:  # Близко к 1 — это квадрат\n",
        "            return \"square\"\n",
        "        elif fill_ratio > 0.6:  # Примерно 0.785 — это круг\n",
        "            return \"circle\"\n",
        "    return None\n",
        "\n",
        "# Поиск всех фигур\n",
        "visited = np.zeros((rows, cols), dtype=bool)\n",
        "circle_count = 0\n",
        "square_count = 0\n",
        "\n",
        "for row in range(rows):\n",
        "    for col in range(cols):\n",
        "        # Проверяем, является ли пиксель частью круга (красный цвет)\n",
        "        if tuple(pixels[row][col]) == CIRCLE_COLOR and not visited[row][col]:\n",
        "            component = find_connected_component(row, col, visited, CIRCLE_COLOR)\n",
        "            shape_type = classify_shape(component)\n",
        "            if shape_type == \"circle\":\n",
        "                circle_count += 1\n",
        "\n",
        "        # Проверяем, является ли пиксель частью квадрата (синий цвет)\n",
        "        elif tuple(pixels[row][col]) == SQUARE_COLOR and not visited[row][col]:\n",
        "            component = find_connected_component(row, col, visited, SQUARE_COLOR)\n",
        "            shape_type = classify_shape(component)\n",
        "            if shape_type == \"square\":\n",
        "                square_count += 1\n",
        "\n",
        "# Вывод результатов\n",
        "print(f\"Количество кругов: {circle_count}\")\n",
        "print(f\"Количество квадратов: {square_count}\")"
      ],
      "metadata": {
        "id": "3Y_aa2LcW-ZA",
        "outputId": "59260bce-cf11-4f8d-a43e-a78ce8fe6212",
        "colab": {
          "base_uri": "https://localhost:8080/"
        }
      },
      "execution_count": 12,
      "outputs": [
        {
          "output_type": "stream",
          "name": "stdout",
          "text": [
            "Количество кругов: 5\n",
            "Количество квадратов: 5\n"
          ]
        }
      ]
    },
    {
      "cell_type": "markdown",
      "source": [
        "3. Возьмите изображение, которое содержит объекты и маркеры ARUCO. Сделайте из него 4 изображения с другими параметрами. Постройте график зависимости числа выделенных контуров на изображении от величины порогового уровня. Влияет ли качество изображения на это число?"
      ],
      "metadata": {
        "id": "sOD4CHSeXpNt"
      }
    }
  ],
  "metadata": {
    "colab": {
      "name": "Добро пожаловать в Colaboratory!",
      "provenance": [],
      "include_colab_link": true
    },
    "kernelspec": {
      "display_name": "Python 3",
      "name": "python3"
    }
  },
  "nbformat": 4,
  "nbformat_minor": 0
}